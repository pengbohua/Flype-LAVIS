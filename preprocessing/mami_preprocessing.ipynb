{
 "cells": [
  {
   "cell_type": "code",
   "execution_count": 22,
   "id": "1f7a62e8-43f0-4958-b8a3-be4b5b726c09",
   "metadata": {
    "tags": []
   },
   "outputs": [],
   "source": [
    "import pandas as pd\n",
    "import json\n",
    "\n",
    "def csv_to_dict(csv_file):\n",
    "    data = []\n",
    "    df = pd.read_csv(csv_file, delimiter='\\t')\n",
    "    for index, row in df.iterrows():\n",
    "        file_name = row['file_name']\n",
    "        label = row['misogynous']\n",
    "        # text_input = row['Text Transcription']\n",
    "        data.append(\n",
    "            {'image_name': file_name,\n",
    "            'class_label': label,\n",
    "            # 'text_input': text_input\n",
    "            })\n",
    "    return data\n",
    "\n",
    "# Provide the path to your CSV file\n",
    "csv_file_path = '../MAMI/test_data/test_gold.csv'\n",
    "\n",
    "# Convert CSV to dictionary\n",
    "data_list = csv_to_dict(csv_file_path)\n",
    "\n",
    "# Save dictionary as JSON\n",
    "# json_file_path = '../MAMI/test_data/test_gold.json'\n",
    "# with open(json_file_path, 'w') as file:\n",
    "#     for item in data_list:\n",
    "#         json.dump(item, file)\n",
    "#         file.write('\\n')"
   ]
  },
  {
   "cell_type": "code",
   "execution_count": 33,
   "id": "5aff59e1-e142-421d-934f-5b98c922e93b",
   "metadata": {
    "tags": []
   },
   "outputs": [],
   "source": [
    "text_input_dicts = []\n",
    "with open(\"/home/marvinpeng/wikidata5m/peng/checkthat/MetaVerseofNLU/MAMI/test_data/test.json\", \"r\") as f:\n",
    "    lines = f.readlines()\n",
    "    for l in lines:    \n",
    "        text_input_dicts.append(json.loads(l))"
   ]
  },
  {
   "cell_type": "code",
   "execution_count": 29,
   "id": "289d3b90-8c46-4dd5-9d1c-ef3e8fd1cd1e",
   "metadata": {
    "tags": []
   },
   "outputs": [
    {
     "data": {
      "text/plain": [
       "{'image_name': '15236.jpg', 'class_label': 0}"
      ]
     },
     "execution_count": 29,
     "metadata": {},
     "output_type": "execute_result"
    }
   ],
   "source": [
    "data_list[0]"
   ]
  },
  {
   "cell_type": "code",
   "execution_count": 38,
   "id": "cbb3f1df-bcaa-414f-996b-a30553e80456",
   "metadata": {
    "tags": []
   },
   "outputs": [],
   "source": [
    "new_dict_list = []\n",
    "for text_input_dict, label_dict in zip(text_input_dicts, data_list):\n",
    "    assert text_input_dict['image_name'] == label_dict['image_name']\n",
    "    text_input_dict['class_label'] = str(label_dict['class_label'])\n",
    "    new_dict_list.append(text_input_dict)"
   ]
  },
  {
   "cell_type": "code",
   "execution_count": 40,
   "id": "cd17c3ef-2579-467b-9b8c-28cf90ef9fa1",
   "metadata": {
    "tags": []
   },
   "outputs": [],
   "source": [
    "json_file_path = '../MAMI/test_data/test_gold.json'\n",
    "with open(json_file_path, 'w') as file:\n",
    "    for item in new_dict_list:\n",
    "        json.dump(item, file)\n",
    "        file.write('\\n')"
   ]
  },
  {
   "cell_type": "code",
   "execution_count": 16,
   "id": "ed3e4f00-d6f3-4a48-9c6a-bd9960eecd27",
   "metadata": {
    "tags": []
   },
   "outputs": [],
   "source": [
    "import json\n",
    "\n",
    "with open(\"../MAMI/train_data/dev.json\", \"r\") as f:\n",
    "    dev_set = f.readlines()\n",
    "    dev_list = []\n",
    "    for l in dev_set:\n",
    "        dev_dict = json.loads(l)\n",
    "        dev_dict[\"class_label\"] = str(dev_dict['class_label'])\n",
    "        dev_list.append(dev_dict)"
   ]
  },
  {
   "cell_type": "code",
   "execution_count": 11,
   "id": "26a0192d-c1ea-491f-a8ae-a1650b97430c",
   "metadata": {
    "tags": []
   },
   "outputs": [],
   "source": [
    "new_dev_list = []\n",
    "for new_dev_dict in dev_list:\n",
    "    # l = new_dev_dict.pop(\"label\")\n",
    "    new_dev_list.append(new_dev_dict)"
   ]
  },
  {
   "cell_type": "code",
   "execution_count": 17,
   "id": "57b86e76-018a-4b4c-acf1-c0d4d31d5891",
   "metadata": {
    "tags": []
   },
   "outputs": [],
   "source": [
    "json_file_path = '../MAMI/train_data/dev.json'\n",
    "with open(json_file_path, 'w') as file:\n",
    "    for item in dev_list:\n",
    "        json.dump(item, file)\n",
    "        file.write('\\n')"
   ]
  },
  {
   "cell_type": "code",
   "execution_count": null,
   "id": "66e5af2a-ec06-4201-b0fc-79105cc882d4",
   "metadata": {},
   "outputs": [],
   "source": [
    "MAMI/train_data/images_labeled/train"
   ]
  },
  {
   "cell_type": "code",
   "execution_count": 10,
   "id": "98fc37a7-a5bd-4633-980d-3d4a236c7580",
   "metadata": {
    "tags": []
   },
   "outputs": [],
   "source": [
    "import shutil\n",
    "import os\n",
    "\n",
    "for data in dev_list:\n",
    "    img_name = data['image_name']\n",
    "    if img_name in os.listdir(\"../MAMI/train_data/images_labeled/train\"):\n",
    "        shutil.move(\"../MAMI/train_data/images_labeled/train/{}\".format(img_name), \"../MAMI/train_data/images_labeled/dev/{}\".format(img_name))"
   ]
  },
  {
   "cell_type": "code",
   "execution_count": 3,
   "id": "80e12d01-d2c1-4d10-99b5-d130b5fec0a7",
   "metadata": {
    "tags": []
   },
   "outputs": [],
   "source": [
    "json_file_path = 'mami_labels.jsonl'\n",
    "with open(json_file_path, 'w') as f:\n",
    "    f.writelines(data_dict)"
   ]
  },
  {
   "cell_type": "code",
   "execution_count": null,
   "id": "b327379b-9a67-4477-9c66-23560d5c7e62",
   "metadata": {},
   "outputs": [],
   "source": [
    "# Write the dictionaries to CSV file\n",
    "with open(output_csv_path, 'w', newline='') as file:\n",
    "    fieldnames = ['file_name', 'label', 'text_input']\n",
    "    writer = csv.DictWriter(file, fieldnames=fieldnames)\n",
    "    writer.writeheader()\n",
    "    writer.writerows(data_list)\n"
   ]
  },
  {
   "cell_type": "code",
   "execution_count": 8,
   "id": "4c475c73-264d-40e5-97c0-3c4ce95cbbf0",
   "metadata": {
    "tags": []
   },
   "outputs": [],
   "source": [
    "import random\n",
    "\n",
    "random.shuffle(data_list)  # Shuffle the data randomly\n",
    "\n",
    "total_samples = len(data_list)\n",
    "train_samples = int(0.8 * total_samples)\n",
    "dev_samples = int(0.1 * total_samples)\n",
    "test_samples = int(0.1 * total_samples)\n",
    "\n",
    "train_set = data_list[:train_samples]\n",
    "dev_set = data_list[train_samples:train_samples + dev_samples]\n",
    "test_set = data_list[train_samples + dev_samples:]\n",
    "\n",
    "# Save each set to separate files\n",
    "train_filename = \"train.json\"\n",
    "dev_filename = \"dev.json\"\n",
    "test_filename = \"test.json\"\n",
    "\n",
    "# Function to save a set to a file\n",
    "def save_set_to_file(dataset, filename):\n",
    "    with open(filename, 'w') as file:\n",
    "        for item in dataset:\n",
    "            json.dump(item, file)\n",
    "            file.write('\\n')\n",
    "\n",
    "# Save each set to a file\n",
    "save_set_to_file(train_set, train_filename)\n",
    "save_set_to_file(dev_set, dev_filename)\n",
    "save_set_to_file(test_set, test_filename)\n"
   ]
  },
  {
   "cell_type": "raw",
   "id": "3ac3d008-8827-4244-8f9e-18c8367c3784",
   "metadata": {},
   "source": [
    "SURE undergrad scholarship"
   ]
  },
  {
   "cell_type": "code",
   "execution_count": 1,
   "id": "d2459afe-4832-4170-94f3-d5c0791ac4c1",
   "metadata": {},
   "outputs": [],
   "source": [
    "train_ocr = '/home/marvinpeng/wikidata5m/peng/checkthat/MetaVerseofNLU/MAMI/train_data/ocr_results.json'\n",
    "test_ocr = '/home/marvinpeng/wikidata5m/peng/checkthat/MetaVerseofNLU/MAMI/test_data/ocr_results.json'"
   ]
  },
  {
   "cell_type": "code",
   "execution_count": 2,
   "id": "c3f3b0b3-1402-429e-858e-a730f9244ce4",
   "metadata": {
    "tags": []
   },
   "outputs": [],
   "source": [
    "import json\n",
    "with open(train_ocr, 'r') as f:\n",
    "    train_ocr = json.load(f)\n",
    "with open(test_ocr, 'r') as f:\n",
    "    test_ocr = json.load(f)"
   ]
  },
  {
   "cell_type": "code",
   "execution_count": 49,
   "id": "716ec0c6-cdbb-437b-aea0-c3416337f464",
   "metadata": {
    "tags": []
   },
   "outputs": [
    {
     "data": {
      "text/plain": [
       "{'image_name': '17067.jpg',\n",
       " 'ocr_res': [[[[209, 393], [441, 393], [441, 455], [209, 455]],\n",
       "   'MAUR Y',\n",
       "   0.6908351853414325],\n",
       "  [[[224, 452], [416, 452], [416, 476], [224, 476]],\n",
       "   \"He'$ got a show for that\",\n",
       "   0.7311747735877306],\n",
       "  [[[3, 493], [197, 493], [197, 511], [3, 511]],\n",
       "   'VERY DEMOTIVATIONAL',\n",
       "   0.820648584852664],\n",
       "  [[[205, 497], [241, 497], [241, 511], [205, 511]],\n",
       "   'cOm',\n",
       "   0.666827380657196]]}"
      ]
     },
     "execution_count": 49,
     "metadata": {},
     "output_type": "execute_result"
    }
   ],
   "source": [
    "test_ocr[0]"
   ]
  },
  {
   "cell_type": "code",
   "execution_count": 51,
   "id": "eb7f92a9-b2f5-47c7-bea6-0280a85044f4",
   "metadata": {
    "tags": []
   },
   "outputs": [],
   "source": [
    "train_ocr_results = []\n",
    "for key, value in train_ocr.items():\n",
    "    train_ocr_dict = {'image_name': key, 'ocr_res': value}\n",
    "    train_ocr_results.append(train_ocr_dict)"
   ]
  },
  {
   "cell_type": "code",
   "execution_count": 13,
   "id": "8f4da06b-6475-4ef3-946c-e27c13313a7e",
   "metadata": {
    "tags": []
   },
   "outputs": [
    {
     "data": {
      "text/plain": [
       "{'image_name': '17067.jpg',\n",
       " 'ocr_res': [[[[209, 393], [441, 393], [441, 455], [209, 455]],\n",
       "   'MAUR Y',\n",
       "   0.6908351853414325],\n",
       "  [[[224, 452], [416, 452], [416, 476], [224, 476]],\n",
       "   \"He'$ got a show for that\",\n",
       "   0.7311747735877306],\n",
       "  [[[3, 493], [197, 493], [197, 511], [3, 511]],\n",
       "   'VERY DEMOTIVATIONAL',\n",
       "   0.820648584852664],\n",
       "  [[[205, 497], [241, 497], [241, 511], [205, 511]],\n",
       "   'cOm',\n",
       "   0.666827380657196]]}"
      ]
     },
     "execution_count": 13,
     "metadata": {},
     "output_type": "execute_result"
    }
   ],
   "source": [
    "test_ocr[0]"
   ]
  },
  {
   "cell_type": "code",
   "execution_count": 14,
   "id": "9d6e5534-6883-48ae-a659-c4617594bd6e",
   "metadata": {
    "tags": []
   },
   "outputs": [],
   "source": [
    "total_probs = []\n",
    "for ocr_res in test_ocr:\n",
    "    for _ocr in ocr_res['ocr_res']:\n",
    "        total_probs.append(_ocr[2])"
   ]
  },
  {
   "cell_type": "code",
   "execution_count": 15,
   "id": "ed4c3969-d34a-4dbb-ab47-d41b46497ba5",
   "metadata": {
    "tags": []
   },
   "outputs": [
    {
     "data": {
      "text/plain": [
       "[0.6908351853414325,\n",
       " 0.7311747735877306,\n",
       " 0.820648584852664,\n",
       " 0.666827380657196,\n",
       " 0.1960705351538346,\n",
       " 0.0812202252372266,\n",
       " 0.37175287303304355,\n",
       " 0.5134183017064777,\n",
       " 0.8675520839389868,\n",
       " 0.9128945844004303]"
      ]
     },
     "execution_count": 15,
     "metadata": {},
     "output_type": "execute_result"
    }
   ],
   "source": [
    "total_probs[:10]"
   ]
  },
  {
   "cell_type": "code",
   "execution_count": 16,
   "id": "ac8ade3a-f4aa-4ffd-be89-108cb979d325",
   "metadata": {
    "tags": []
   },
   "outputs": [
    {
     "data": {
      "image/png": "[encoded data removed]",
      "text/plain": [
       "<Figure size 640x480 with 1 Axes>"
      ]
     },
     "metadata": {},
     "output_type": "display_data"
    }
   ],
   "source": [
    "import matplotlib.pyplot as plt\n",
    "\n",
    "plt.hist(total_probs, bins='auto')\n",
    "\n",
    "# Set the x and y label\n",
    "plt.xlabel('Value')\n",
    "plt.ylabel('Frequency')\n",
    "\n",
    "# Display the histogram\n",
    "plt.show()"
   ]
  },
  {
   "cell_type": "code",
   "execution_count": 44,
   "id": "430a67f6-ef2e-44ab-8fef-388ef397e37a",
   "metadata": {
    "tags": []
   },
   "outputs": [],
   "source": [
    "ignore_list = ['imgglip', 'imgflip', 'imgtlip','WeKnowMemes', 'net', 'memes', 'com', 'cOm', 'giip', 'c0m', 'www', 'meme', 'imgip', 'makeameme', 'org', 'jpg', 'jpeg', 'Msagur','center', 'quickmeme']"
   ]
  },
  {
   "cell_type": "code",
   "execution_count": 52,
   "id": "46e236d7-79e1-4323-b184-1e75c78c4784",
   "metadata": {
    "tags": []
   },
   "outputs": [],
   "source": [
    "\n",
    "total_train_ocr_results = {}\n",
    "for ocr_res in train_ocr_results:\n",
    "    for _ocr in ocr_res['ocr_res']:\n",
    "        cur_ocr = []\n",
    "        if _ocr[2]>0.55:\n",
    "            flag = False\n",
    "            for _ban_w in ignore_list:\n",
    "                if _ban_w in _ocr[1].lower():\n",
    "                    flag=True\n",
    "                    break\n",
    "            if not flag:\n",
    "                cur_ocr.append(_ocr[1].lower())\n",
    "    total_train_ocr_results[ocr_res['image_name']] = cur_ocr   "
   ]
  },
  {
   "cell_type": "code",
   "execution_count": 74,
   "id": "77b01888-5659-450a-a360-4c00177428f5",
   "metadata": {
    "tags": []
   },
   "outputs": [
    {
     "name": "stdout",
     "output_type": "stream",
     "text": [
      "10008\n"
     ]
    }
   ],
   "source": [
    "print(len(total_train_ocr_results))"
   ]
  },
  {
   "cell_type": "code",
   "execution_count": 81,
   "id": "ef42f464-aafd-45ac-b3f6-6fd15255ec85",
   "metadata": {
    "tags": []
   },
   "outputs": [
    {
     "name": "stdout",
     "output_type": "stream",
     "text": [
      "10100\n"
     ]
    }
   ],
   "source": [
    "import os\n",
    "with open(\"/home/marvinpeng/wikidata5m/peng/checkthat/MetaVerseofNLU/MAMI/train_data/merge.json\", \"r\") as f:\n",
    "    lines = f.readlines()\n",
    "    new_lines = []\n",
    "    print(len(lines))\n",
    "    missing_ents = []\n",
    "    path_head = 'MAMI/train_data/images_labeled/merge/'\n",
    "    for l in lines:\n",
    "        merge_dict = json.loads(l)\n",
    "        image_name = merge_dict['image_name']\n",
    "        image_name = os.path.join(path_head, image_name)\n",
    "        try:\n",
    "            merge_dict['ocr_text'] = total_train_ocr_results[image_name]\n",
    "        except KeyError:\n",
    "            missing_ents.append(image_name)\n",
    "        else:\n",
    "            new_lines.append(merge_dict)"
   ]
  },
  {
   "cell_type": "code",
   "execution_count": 86,
   "id": "df5ee66d-891c-4a33-9131-e508f86d9d96",
   "metadata": {
    "tags": []
   },
   "outputs": [],
   "source": [
    "with open('merge_ocr_results.json', 'w') as f:\n",
    "    for l in new_lines:\n",
    "        json.dump(l, f)\n",
    "        f.write(\"\\n\")"
   ]
  },
  {
   "cell_type": "code",
   "execution_count": 80,
   "id": "913f21b0-515c-4bcc-8e86-c6d8852bed05",
   "metadata": {
    "tags": []
   },
   "outputs": [
    {
     "data": {
      "text/plain": [
       "'MAMI/train_data/images_labeled/merge/2403.jpg'"
      ]
     },
     "execution_count": 80,
     "metadata": {},
     "output_type": "execute_result"
    }
   ],
   "source": [
    "os.path.join(path_head, image_name)"
   ]
  },
  {
   "cell_type": "code",
   "execution_count": 79,
   "id": "6d832c64-3700-4f5b-966e-9e4b859914bb",
   "metadata": {
    "tags": []
   },
   "outputs": [
    {
     "data": {
      "text/plain": [
       "['closely ']"
      ]
     },
     "execution_count": 79,
     "metadata": {},
     "output_type": "execute_result"
    }
   ],
   "source": [
    "total_train_ocr_results[os.path.join(path_head, image_name)]"
   ]
  },
  {
   "cell_type": "code",
   "execution_count": 87,
   "id": "a11d3cf6-89bd-4697-b991-2587b831839b",
   "metadata": {
    "tags": []
   },
   "outputs": [
    {
     "data": {
      "text/plain": [
       "10100"
      ]
     },
     "execution_count": 87,
     "metadata": {},
     "output_type": "execute_result"
    }
   ],
   "source": [
    "len(new_lines)"
   ]
  },
  {
   "cell_type": "code",
   "execution_count": 125,
   "id": "896fc051-6733-43aa-8925-8d6ba2ca9684",
   "metadata": {
    "tags": []
   },
   "outputs": [
    {
     "data": {
      "text/plain": [
       "{'image_name': '1.jpg', 'class_label': '0', 'text_input': 'Milk Milk.zip'}"
      ]
     },
     "execution_count": 125,
     "metadata": {},
     "output_type": "execute_result"
    }
   ],
   "source": [
    "train_lines[0]"
   ]
  },
  {
   "cell_type": "code",
   "execution_count": 124,
   "id": "f92ff494-dcd5-4140-a8ed-655bab94b06c",
   "metadata": {
    "tags": []
   },
   "outputs": [],
   "source": [
    "with open(\"/home/marvinpeng/wikidata5m/peng/checkthat/MetaVerseofNLU/MAMI/train_data/train.json\", \"r\") as f:\n",
    "    lines = f.readlines()\n",
    "    train_lines = []\n",
    "    for l in lines:\n",
    "        train_lines.append(json.loads(l))\n",
    "with open(\"/home/marvinpeng/wikidata5m/peng/checkthat/MetaVerseofNLU/MAMI/train_data/dev.json\", \"r\") as f:\n",
    "    lines = f.readlines()\n",
    "    dev_lines = []\n",
    "    for l in lines:\n",
    "        dev_lines.append(json.loads(l))\n",
    "# with open(\"/home/marvinpeng/wikidata5m/peng/checkthat/MetaVerseofNLU/MAMI/train_data/dev_test.json\", \"r\") as f:\n",
    "#     lines = f.readlines()\n",
    "#     dev_test_lines = []\n",
    "#     for l in lines:\n",
    "#         dev_test_lines.append(json.loads(l))"
   ]
  },
  {
   "cell_type": "code",
   "execution_count": 100,
   "id": "94631423-33e9-4992-b1d0-09713347ebae",
   "metadata": {
    "tags": []
   },
   "outputs": [
    {
     "data": {
      "text/plain": [
       "{'image_name': '28.jpg',\n",
       " 'label': 0,\n",
       " 'text_input': \"C BLOCK not now, dad BLOCK stop it, dad LOCK We should burn Jon Snow you know what will happen if he becomes a white walker? he'll become SNOW WHITE SNOW WHITE!\",\n",
       " 'ocr_text': []}"
      ]
     },
     "execution_count": 100,
     "metadata": {},
     "output_type": "execute_result"
    }
   ],
   "source": [
    "merge_dict"
   ]
  },
  {
   "cell_type": "code",
   "execution_count": 93,
   "id": "4b3a7354-6064-4866-b307-cd63e9c4c8c7",
   "metadata": {
    "tags": []
   },
   "outputs": [
    {
     "data": {
      "text/plain": [
       "{'image_name': '28.jpg',\n",
       " 'class_label': '0',\n",
       " 'text_input': \"not now, dad. We should burn Jon Snow. stop it dad. you know what will happen if he becomes a white walker? he'll become SNOW WHITE. SNOW WHITE!\"}"
      ]
     },
     "execution_count": 93,
     "metadata": {},
     "output_type": "execute_result"
    }
   ],
   "source": [
    "dev_test_lines[0]"
   ]
  },
  {
   "cell_type": "raw",
   "id": "b1e9dab3-bd17-4568-a16b-a46e7d9abf91",
   "metadata": {},
   "source": [
    "Add ocr_results to train, dev, dev_test"
   ]
  },
  {
   "cell_type": "code",
   "execution_count": 95,
   "id": "6c468f95-5268-435c-9cda-c3472c000e46",
   "metadata": {
    "tags": []
   },
   "outputs": [
    {
     "data": {
      "text/plain": [
       "dict_keys(['image_name', 'label', 'text_input', 'ocr_text'])"
      ]
     },
     "execution_count": 95,
     "metadata": {},
     "output_type": "execute_result"
    }
   ],
   "source": [
    "merge_dict.keys()"
   ]
  },
  {
   "cell_type": "code",
   "execution_count": 96,
   "id": "5f84e108-6b30-4ed4-ae6d-f3ff78e22dfc",
   "metadata": {
    "tags": []
   },
   "outputs": [],
   "source": [
    "merge_dict_lines = new_lines"
   ]
  },
  {
   "cell_type": "code",
   "execution_count": 97,
   "id": "214b75fb-7aa7-4b4b-9cb5-e9c69f1b3c29",
   "metadata": {
    "tags": []
   },
   "outputs": [
    {
     "data": {
      "text/plain": [
       "{'image_name': '2403.jpg',\n",
       " 'label': 1,\n",
       " 'text_input': 'HAPPINESS IS EVERYWHERE YOU JUST NEED TO LOOK CLOSELY',\n",
       " 'ocr_text': ['closely ']}"
      ]
     },
     "execution_count": 97,
     "metadata": {},
     "output_type": "execute_result"
    }
   ],
   "source": [
    "merge_dict_lines[0]"
   ]
  },
  {
   "cell_type": "code",
   "execution_count": 129,
   "id": "b928bd4b-e3f4-482e-9220-52dd0f2e3b96",
   "metadata": {
    "tags": []
   },
   "outputs": [],
   "source": [
    "new_train_lines = []\n",
    "for train_line in train_lines:\n",
    "    image_name = train_line['image_name']\n",
    "    for merge_dict in merge_dict_lines:\n",
    "        if image_name == merge_dict['image_name']:\n",
    "            train_line['ocr_text'] = merge_dict['ocr_text']\n",
    "            new_train_lines.append(train_line)\n",
    "            break"
   ]
  },
  {
   "cell_type": "code",
   "execution_count": 130,
   "id": "782c738b-fd8c-47cd-b3cc-d959696380fd",
   "metadata": {
    "tags": []
   },
   "outputs": [
    {
     "data": {
      "text/plain": [
       "10000"
      ]
     },
     "execution_count": 130,
     "metadata": {},
     "output_type": "execute_result"
    }
   ],
   "source": [
    "len(new_train_lines)"
   ]
  },
  {
   "cell_type": "code",
   "execution_count": 112,
   "id": "cacfe913-2603-4e55-bf3c-201f4e295cd1",
   "metadata": {
    "tags": []
   },
   "outputs": [
    {
     "data": {
      "text/plain": [
       "100"
      ]
     },
     "execution_count": 112,
     "metadata": {},
     "output_type": "execute_result"
    }
   ],
   "source": [
    "len(new_dev_test_lines)"
   ]
  },
  {
   "cell_type": "code",
   "execution_count": 131,
   "id": "c355dfaa-3227-4b99-b326-6f0434678c1e",
   "metadata": {
    "tags": []
   },
   "outputs": [],
   "source": [
    "with open(\"/home/marvinpeng/wikidata5m/peng/checkthat/MetaVerseofNLU/MAMI/train_data/train.json\", \"w\") as f:\n",
    "    for train_l in new_train_lines:\n",
    "        json.dump(train_l, f)\n",
    "        f.write(\"\\n\")"
   ]
  },
  {
   "cell_type": "code",
   "execution_count": 105,
   "id": "3b3c9069-8fe5-4feb-a070-b0a8a6049afc",
   "metadata": {
    "tags": []
   },
   "outputs": [
    {
     "data": {
      "text/plain": [
       "100"
      ]
     },
     "execution_count": 105,
     "metadata": {},
     "output_type": "execute_result"
    }
   ],
   "source": [
    "len(dev_test_lines)"
   ]
  },
  {
   "cell_type": "code",
   "execution_count": 106,
   "id": "3d4a4869-c58e-4353-9bd3-426432813c69",
   "metadata": {
    "tags": []
   },
   "outputs": [
    {
     "data": {
      "text/plain": [
       "{'image_name': '28.jpg',\n",
       " 'class_label': '0',\n",
       " 'text_input': \"not now, dad. We should burn Jon Snow. stop it dad. you know what will happen if he becomes a white walker? he'll become SNOW WHITE. SNOW WHITE!\"}"
      ]
     },
     "execution_count": 106,
     "metadata": {},
     "output_type": "execute_result"
    }
   ],
   "source": [
    "dev_test_lines[0]"
   ]
  },
  {
   "cell_type": "code",
   "execution_count": 147,
   "id": "12ba1689-91d7-4ed3-8aeb-c1fc52ec50ed",
   "metadata": {
    "tags": []
   },
   "outputs": [],
   "source": [
    "with open(\"/home/marvinpeng/wikidata5m/peng/checkthat/MetaVerseofNLU/MAMI/prompt_adapter/train_data/merge.json\", \"r\") as f:\n",
    "    lines = f.readlines()\n",
    "    dev_lines = []\n",
    "    for l in lines:\n",
    "        dev_dict = json.loads(l)\n",
    "        if not dev_dict['ocr_text']:\n",
    "            dev_dict['ocr_text'] = \"\"\n",
    "        else:                \n",
    "            dev_dict['ocr_text'] = dev_dict['ocr_text'][0]\n",
    "        class_label = dev_dict.pop('label')\n",
    "        dev_dict['class_label'] = str(class_label)\n",
    "        dev_lines.append(dev_dict)\n",
    "with open(\"/home/marvinpeng/wikidata5m/peng/checkthat/MetaVerseofNLU/MAMI/prompt_adapter/train_data/merge.json\", \"w\") as f:\n",
    "    for l in dev_lines:\n",
    "        json.dump(l, f)\n",
    "        f.write('\\n')"
   ]
  },
  {
   "cell_type": "code",
   "execution_count": 53,
   "id": "ae210e73-3840-47fc-bb35-d5b00bb8fca9",
   "metadata": {
    "tags": []
   },
   "outputs": [],
   "source": [
    "with open(\"train_ocr_results_filtered\", \"w\") as f:\n",
    "    json.dump(total_train_ocr_results, f)"
   ]
  },
  {
   "cell_type": "code",
   "execution_count": 66,
   "id": "974f3bd5-6cd2-4019-a6fb-56ebbc30bf5e",
   "metadata": {
    "tags": []
   },
   "outputs": [
    {
     "name": "stdout",
     "output_type": "stream",
     "text": [
      "1000\n"
     ]
    }
   ],
   "source": [
    "print(len(total_ocr_results))"
   ]
  },
  {
   "cell_type": "code",
   "execution_count": 45,
   "id": "ea84f44a-ce1e-4907-a53a-1fb793339364",
   "metadata": {
    "tags": []
   },
   "outputs": [],
   "source": [
    "total_ocr_results = {}\n",
    "for ocr_res in test_ocr:\n",
    "    for _ocr in ocr_res['ocr_res']:\n",
    "        cur_ocr = []\n",
    "        if _ocr[2]>0.55:\n",
    "            flag = False\n",
    "            for _ban_w in ignore_list:\n",
    "                if _ban_w in _ocr[1].lower():\n",
    "                    flag=True\n",
    "                    break\n",
    "            if not flag:\n",
    "                cur_ocr.append(_ocr[1].lower())\n",
    "    total_ocr_results[ocr_res['image_name']] = cur_ocr        \n",
    "            "
   ]
  },
  {
   "cell_type": "code",
   "execution_count": 54,
   "id": "b6abea6d-f175-4c66-b9f9-22975f3d12f4",
   "metadata": {
    "tags": []
   },
   "outputs": [],
   "source": [
    "with open(\"test_ocr_results_filtered\", \"w\") as f:\n",
    "    json.dump(test_ocr_results, f)"
   ]
  },
  {
   "cell_type": "code",
   "execution_count": 47,
   "id": "a8e830bd-be04-4df5-ac9b-a474d018d3f0",
   "metadata": {
    "tags": []
   },
   "outputs": [],
   "source": [
    "test_ocr_results = total_ocr_results"
   ]
  },
  {
   "cell_type": "code",
   "execution_count": 141,
   "id": "1ec5b127-86b7-4bce-9548-fc87c8ae8adb",
   "metadata": {
    "tags": []
   },
   "outputs": [],
   "source": [
    "import os\n",
    "\n",
    "training_list = os.listdir('/home/marvinpeng/wikidata5m/peng/checkthat/MetaVerseofNLU/MAMI/prompt_ocr_adapter/train_data/images_labeled/train')"
   ]
  },
  {
   "cell_type": "code",
   "execution_count": 142,
   "id": "1b0ea702-abd8-44e1-94ed-faf0ccdab481",
   "metadata": {
    "tags": []
   },
   "outputs": [
    {
     "data": {
      "text/plain": [
       "'5110.jpg'"
      ]
     },
     "execution_count": 142,
     "metadata": {},
     "output_type": "execute_result"
    }
   ],
   "source": [
    "training_list[0]"
   ]
  },
  {
   "cell_type": "code",
   "execution_count": 143,
   "id": "be0cd529-0245-4ad2-8c0b-7a139316de95",
   "metadata": {
    "tags": []
   },
   "outputs": [],
   "source": [
    "with open(\"/home/marvinpeng/wikidata5m/peng/checkthat/MetaVerseofNLU/MAMI/prompt_ocr_adapter/train_data/train.json\", \"r\") as f:\n",
    "    lines = f.readlines()\n",
    "    dev_lines = []\n",
    "    for l in lines:\n",
    "        dev_dict = json.loads(l)\n",
    "        if not dev_dict['ocr_text']:\n",
    "            dev_dict['ocr_text'] = \"\"\n",
    "        else:                \n",
    "            dev_dict['ocr_text'] = dev_dict['ocr_text'][0]\n",
    "        image_name = dev_dict['image_name']\n",
    "        if image_name in training_list:\n",
    "            dev_lines.append(dev_dict)\n",
    "with open(\"/home/marvinpeng/wikidata5m/peng/checkthat/MetaVerseofNLU/MAMI/prompt_ocr_adapter/train_data/train.json\", \"w\") as f:\n",
    "    for l in dev_lines:\n",
    "        json.dump(l, f)\n",
    "        f.write('\\n')"
   ]
  }
 ],
 "metadata": {
  "kernelspec": {
   "display_name": "Python 3 (ipykernel)",
   "language": "python",
   "name": "python3"
  },
  "language_info": {
   "codemirror_mode": {
    "name": "ipython",
    "version": 3
   },
   "file_extension": ".py",
   "mimetype": "text/x-python",
   "name": "python",
   "nbconvert_exporter": "python",
   "pygments_lexer": "ipython3",
   "version": "3.8.16"
  }
 },
 "nbformat": 4,
 "nbformat_minor": 5
}
