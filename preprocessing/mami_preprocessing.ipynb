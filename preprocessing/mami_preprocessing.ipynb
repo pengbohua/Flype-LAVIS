{
 "cells": [
  {
   "cell_type": "code",
   "execution_count": 5,
   "id": "1f7a62e8-43f0-4958-b8a3-be4b5b726c09",
   "metadata": {
    "tags": []
   },
   "outputs": [],
   "source": [
    "import pandas as pd\n",
    "import json\n",
    "\n",
    "def csv_to_dict(csv_file):\n",
    "    data = []\n",
    "\n",
    "    df = pd.read_csv(csv_file, delimiter='\\t')\n",
    "    for index, row in df.iterrows():\n",
    "        file_name = row['file_name']\n",
    "        label = int(row['misogynous'])\n",
    "        text_input = row['Text Transcription']\n",
    "\n",
    "        data.append(\n",
    "            {'image_name': file_name,\n",
    "            'label': label,\n",
    "            'text_input': text_input\n",
    "            })\n",
    "\n",
    "    return data\n",
    "\n",
    "# Provide the path to your CSV file\n",
    "csv_file_path = '/home/marvinpeng/wikidata5m/peng/checkthat/task1/MAMI/train/training.csv'\n",
    "\n",
    "# Convert CSV to dictionary\n",
    "data_list = csv_to_dict(csv_file_path)\n",
    "\n",
    "# Save dictionary as JSON\n",
    "json_file_path = 'mami_labels.jsonl'\n",
    "with open(json_file_path, 'w') as file:\n",
    "    for item in data_list:\n",
    "        json.dump(item, file)\n",
    "        file.write('\\n')"
   ]
  },
  {
   "cell_type": "code",
   "execution_count": 3,
   "id": "80e12d01-d2c1-4d10-99b5-d130b5fec0a7",
   "metadata": {
    "tags": []
   },
   "outputs": [],
   "source": [
    "json_file_path = 'mami_labels.jsonl'\n",
    "with open(json_file_path, 'w') as f:\n",
    "    f.writelines(data_dict)"
   ]
  },
  {
   "cell_type": "code",
   "execution_count": null,
   "id": "b327379b-9a67-4477-9c66-23560d5c7e62",
   "metadata": {},
   "outputs": [],
   "source": [
    "# Write the dictionaries to CSV file\n",
    "with open(output_csv_path, 'w', newline='') as file:\n",
    "    fieldnames = ['file_name', 'label', 'text_input']\n",
    "    writer = csv.DictWriter(file, fieldnames=fieldnames)\n",
    "    writer.writeheader()\n",
    "    writer.writerows(data_list)\n"
   ]
  },
  {
   "cell_type": "code",
   "execution_count": 8,
   "id": "4c475c73-264d-40e5-97c0-3c4ce95cbbf0",
   "metadata": {
    "tags": []
   },
   "outputs": [],
   "source": [
    "import random\n",
    "\n",
    "random.shuffle(data_list)  # Shuffle the data randomly\n",
    "\n",
    "total_samples = len(data_list)\n",
    "train_samples = int(0.8 * total_samples)\n",
    "dev_samples = int(0.1 * total_samples)\n",
    "test_samples = int(0.1 * total_samples)\n",
    "\n",
    "train_set = data_list[:train_samples]\n",
    "dev_set = data_list[train_samples:train_samples + dev_samples]\n",
    "test_set = data_list[train_samples + dev_samples:]\n",
    "\n",
    "# Save each set to separate files\n",
    "train_filename = \"train.json\"\n",
    "dev_filename = \"dev.json\"\n",
    "test_filename = \"test.json\"\n",
    "\n",
    "# Function to save a set to a file\n",
    "def save_set_to_file(dataset, filename):\n",
    "    with open(filename, 'w') as file:\n",
    "        for item in dataset:\n",
    "            json.dump(item, file)\n",
    "            file.write('\\n')\n",
    "\n",
    "# Save each set to a file\n",
    "save_set_to_file(train_set, train_filename)\n",
    "save_set_to_file(dev_set, dev_filename)\n",
    "save_set_to_file(test_set, test_filename)\n"
   ]
  }
 ],
 "metadata": {
  "kernelspec": {
   "display_name": "Python 3 (ipykernel)",
   "language": "python",
   "name": "python3"
  },
  "language_info": {
   "codemirror_mode": {
    "name": "ipython",
    "version": 3
   },
   "file_extension": ".py",
   "mimetype": "text/x-python",
   "name": "python",
   "nbconvert_exporter": "python",
   "pygments_lexer": "ipython3",
   "version": "3.8.16"
  }
 },
 "nbformat": 4,
 "nbformat_minor": 5
}
